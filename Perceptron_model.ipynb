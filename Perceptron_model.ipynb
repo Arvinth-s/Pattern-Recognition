{
  "nbformat": 4,
  "nbformat_minor": 0,
  "metadata": {
    "colab": {
      "name": "Perceptron-model.ipynb",
      "provenance": [],
      "collapsed_sections": [],
      "authorship_tag": "ABX9TyM60OPo6ahGnIo0ZucKi7Kn",
      "include_colab_link": true
    },
    "kernelspec": {
      "name": "python3",
      "display_name": "Python 3"
    }
  },
  "cells": [
    {
      "cell_type": "markdown",
      "metadata": {
        "id": "view-in-github",
        "colab_type": "text"
      },
      "source": [
        "<a href=\"https://colab.research.google.com/github/Arvinth-s/Pattern-Recognition/blob/main/Perceptron_model.ipynb\" target=\"_parent\"><img src=\"https://colab.research.google.com/assets/colab-badge.svg\" alt=\"Open In Colab\"/></a>"
      ]
    },
    {
      "cell_type": "code",
      "metadata": {
        "id": "BXB4cXFJAjG-"
      },
      "source": [
        "#OM NAMO NARAYANA"
      ],
      "execution_count": 221,
      "outputs": []
    },
    {
      "cell_type": "code",
      "metadata": {
        "id": "GKhYwTkTAk-h"
      },
      "source": [
        "import random\n",
        "import numpy as np\n",
        "import matplotlib.pyplot as plt"
      ],
      "execution_count": 222,
      "outputs": []
    },
    {
      "cell_type": "markdown",
      "metadata": {
        "id": "UcF7NX_fQ3U1"
      },
      "source": [
        "**Rotation matrix**<br>\n",
        "We generate a rotation matrix that rotates the axis to theta ( +30 degrees)\n"
      ]
    },
    {
      "cell_type": "code",
      "metadata": {
        "colab": {
          "base_uri": "https://localhost:8080/"
        },
        "id": "_uJY7LRUCyiL",
        "outputId": "29b601ad-f74a-457c-e53c-b22e22b681a2"
      },
      "source": [
        "theta = np.radians(30)\n",
        "cos_term, sin_term = np.cos(theta), np.sin(theta)\n",
        "R = np.array(((cos_term, -sin_term), (sin_term, cos_term)))\n",
        "print(R)"
      ],
      "execution_count": 223,
      "outputs": [
        {
          "output_type": "stream",
          "text": [
            "[[ 0.8660254 -0.5      ]\n",
            " [ 0.5        0.8660254]]\n"
          ],
          "name": "stdout"
        }
      ]
    },
    {
      "cell_type": "markdown",
      "metadata": {
        "id": "y1-9ptUTRPhM"
      },
      "source": [
        "N : number of datapoints in each classes<br>\n",
        "M : dimension of each datapoint (here we take as 2 so they can be represented in a plane)"
      ]
    },
    {
      "cell_type": "code",
      "metadata": {
        "id": "EJ0WNn2KH-J6"
      },
      "source": [
        "N = 50\n",
        "M = 2"
      ],
      "execution_count": 278,
      "outputs": []
    },
    {
      "cell_type": "code",
      "metadata": {
        "colab": {
          "base_uri": "https://localhost:8080/",
          "height": 268
        },
        "id": "v4ktoT6DAsBx",
        "outputId": "397f4214-9dba-4a79-f3fd-691e92278e57"
      },
      "source": [
        "a = np.random.randn(N, M)\n",
        "x = np.transpose(a)[0]\n",
        "y = np.transpose(a)[1]\n",
        "y = y - np.min(y) + 0.7\n",
        "plt.scatter(x, y)\n",
        "a = [x, y]"
      ],
      "execution_count": 279,
      "outputs": [
        {
          "output_type": "display_data",
          "data": {
            "image/png": "[encoded data removed]",
            "text/plain": [
              "<Figure size 432x288 with 1 Axes>"
            ]
          },
          "metadata": {
            "tags": [],
            "needs_background": "light"
          }
        }
      ]
    },
    {
      "cell_type": "markdown",
      "metadata": {
        "id": "9M-F0xphRfbw"
      },
      "source": [
        "We generate random datapoints for class 1 and make the value of y greater than 0 for all datapoints"
      ]
    },
    {
      "cell_type": "code",
      "metadata": {
        "colab": {
          "base_uri": "https://localhost:8080/",
          "height": 265
        },
        "id": "OatPDPYSAw8V",
        "outputId": "8ff1a908-ed6d-43a7-e7f0-938ef4ab540a"
      },
      "source": [
        "b = np.random.randn(N, M)\n",
        "x = np.transpose(b)[0]\n",
        "y = np.transpose(b)[1]\n",
        "y = y - np.max(y) - 0.7\n",
        "plt.scatter(x, y)\n",
        "b = [x, y]"
      ],
      "execution_count": 280,
      "outputs": [
        {
          "output_type": "display_data",
          "data": {
            "image/png": "[encoded data removed]",
            "text/plain": [
              "<Figure size 432x288 with 1 Axes>"
            ]
          },
          "metadata": {
            "tags": [],
            "needs_background": "light"
          }
        }
      ]
    },
    {
      "cell_type": "markdown",
      "metadata": {
        "id": "ejTbYDraRtoz"
      },
      "source": [
        "We generate random datapoints for class 1 and make the value of y greater than 0 for all datapoints"
      ]
    },
    {
      "cell_type": "code",
      "metadata": {
        "colab": {
          "base_uri": "https://localhost:8080/",
          "height": 265
        },
        "id": "o74YBBKZCB8E",
        "outputId": "f8612790-8848-4bee-e264-c6e8b9d8519d"
      },
      "source": [
        "plt.scatter(a[0], a[1],c='r')\n",
        "plt.scatter(b[0], b[1],c='b')\n",
        "plt.show()"
      ],
      "execution_count": 281,
      "outputs": [
        {
          "output_type": "display_data",
          "data": {
            "image/png": "[encoded data removed]",
            "text/plain": [
              "<Figure size 432x288 with 1 Axes>"
            ]
          },
          "metadata": {
            "tags": [],
            "needs_background": "light"
          }
        }
      ]
    },
    {
      "cell_type": "markdown",
      "metadata": {
        "id": "dlgb6lWhRx_d"
      },
      "source": [
        "Datapoints belonging to class A is plotted in red and class B is plotted in blue. As seen from the figure, all the datapoints in class A lies above X axis (y=0) and datapoints in class B lies below X axis"
      ]
    },
    {
      "cell_type": "code",
      "metadata": {
        "colab": {
          "base_uri": "https://localhost:8080/",
          "height": 265
        },
        "id": "o4_fxoUYD3mM",
        "outputId": "eb76feb2-064a-49ec-c3b8-e2da9a97d773"
      },
      "source": [
        "a = np.matmul(R, a)\n",
        "plt.scatter(a[0], a[1], c='r')\n",
        "b = np.matmul(R, b)\n",
        "plt.scatter(b[0], b[1], c='b')\n",
        "plt.show()"
      ],
      "execution_count": 282,
      "outputs": [
        {
          "output_type": "display_data",
          "data": {
            "image/png": "[encoded data removed]",
            "text/plain": [
              "<Figure size 432x288 with 1 Axes>"
            ]
          },
          "metadata": {
            "tags": [],
            "needs_background": "light"
          }
        }
      ]
    },
    {
      "cell_type": "markdown",
      "metadata": {
        "id": "Y92kuLzbSMt4"
      },
      "source": [
        "The datapoints are rotated at 30 degrees"
      ]
    },
    {
      "cell_type": "code",
      "metadata": {
        "colab": {
          "base_uri": "https://localhost:8080/",
          "height": 318
        },
        "id": "6Xe5RZcwER_5",
        "outputId": "55590c51-b036-4504-b354-1c05238abca9"
      },
      "source": [
        "W = np.random.randn(2, 1)\n",
        "print(W)\n",
        "plt.plot(np.arange(-10, 10), -np.arange(-10, 10)*W[1][0]/W[0][0], c='g')"
      ],
      "execution_count": 288,
      "outputs": [
        {
          "output_type": "stream",
          "text": [
            "[[-0.28591726]\n",
            " [-2.73340021]]\n"
          ],
          "name": "stdout"
        },
        {
          "output_type": "execute_result",
          "data": {
            "text/plain": [
              "[<matplotlib.lines.Line2D at 0x7f48586836a0>]"
            ]
          },
          "metadata": {
            "tags": []
          },
          "execution_count": 288
        },
        {
          "output_type": "display_data",
          "data": {
            "image/png": "[encoded data removed]",
            "text/plain": [
              "<Figure size 432x288 with 1 Axes>"
            ]
          },
          "metadata": {
            "tags": [],
            "needs_background": "light"
          }
        }
      ]
    },
    {
      "cell_type": "markdown",
      "metadata": {
        "id": "8yjelZzHSSF6"
      },
      "source": [
        "The weights are genereated randomly. <br>\n",
        "Note: We don't use bias hence the line always passes through origin. But in the general implementation we have bias term"
      ]
    },
    {
      "cell_type": "code",
      "metadata": {
        "colab": {
          "base_uri": "https://localhost:8080/",
          "height": 283
        },
        "id": "mldJhgDqE4zt",
        "outputId": "b5e923a3-6cca-49fc-9d43-b32451ef0e2c"
      },
      "source": [
        "plt.plot(np.arange(-5, 5), -np.arange(-5, 5)*W[1][0]/W[0][0], c='g')\n",
        "plt.scatter(a[0], a[1], c='r')\n",
        "plt.scatter(b[0], b[1], c='b')"
      ],
      "execution_count": 290,
      "outputs": [
        {
          "output_type": "execute_result",
          "data": {
            "text/plain": [
              "<matplotlib.collections.PathCollection at 0x7f4858bbcd30>"
            ]
          },
          "metadata": {
            "tags": []
          },
          "execution_count": 290
        },
        {
          "output_type": "display_data",
          "data": {
            "image/png": "[encoded data removed]",
            "text/plain": [
              "<Figure size 432x288 with 1 Axes>"
            ]
          },
          "metadata": {
            "tags": [],
            "needs_background": "light"
          }
        }
      ]
    },
    {
      "cell_type": "code",
      "metadata": {
        "colab": {
          "base_uri": "https://localhost:8080/"
        },
        "id": "MbMmi7owKrzK",
        "outputId": "29884215-0920-4f24-b772-2bf3856c0814"
      },
      "source": [
        "x = [[], []]\n",
        "print(x[1])\n",
        "for i in range(N):\n",
        "  x[0].append(a[0][i])\n",
        "  x[1].append(a[1][i])\n",
        "for i in range(N):\n",
        "  x[0].append(b[0][i])\n",
        "  x[1].append(b[1][i])\n",
        "x = np.array(x)\n",
        "print(x.shape)\n",
        "x = np.transpose(x)"
      ],
      "execution_count": 291,
      "outputs": [
        {
          "output_type": "stream",
          "text": [
            "[]\n",
            "(2, 100)\n"
          ],
          "name": "stdout"
        }
      ]
    },
    {
      "cell_type": "code",
      "metadata": {
        "id": "p0KxIlS7GcoD",
        "colab": {
          "base_uri": "https://localhost:8080/"
        },
        "outputId": "ed57bc41-c06f-44b5-c52b-e8666ee51f9d"
      },
      "source": [
        "lr = 0.1\n",
        "for i in range(1000):\n",
        "  n = np.random.randint(2*N)\n",
        "  # print(n, np.matmul(np.transpose(W), x[n]))\n",
        "  if((n < N and np.matmul(np.transpose(W), x[n])[0] < 0)):\n",
        "    print(n)\n",
        "    W = W + lr * np.transpose([x[n]] )\n",
        "  if((n >= N and np.matmul(np.transpose(W), x[n])[0] > 0)):\n",
        "    W = W - lr * np.transpose([x[n]] )\n",
        "    print(n)\n",
        "    # print(np.matmul(np.transpose(W), x[n])[0])\n",
        "    W = W + lr * np.transpose([x[n]] )\n",
        "    # print(W.shape)\n",
        "    # print(x[n])"
      ],
      "execution_count": 292,
      "outputs": [
        {
          "output_type": "stream",
          "text": [
            "74\n",
            "15\n",
            "85\n",
            "29\n",
            "91\n",
            "83\n",
            "4\n",
            "91\n",
            "49\n",
            "10\n",
            "88\n",
            "89\n",
            "72\n",
            "14\n",
            "33\n",
            "61\n",
            "74\n",
            "12\n",
            "94\n",
            "94\n",
            "58\n",
            "52\n",
            "58\n",
            "31\n",
            "15\n",
            "15\n",
            "15\n"
          ],
          "name": "stdout"
        }
      ]
    },
    {
      "cell_type": "code",
      "metadata": {
        "colab": {
          "base_uri": "https://localhost:8080/",
          "height": 283
        },
        "id": "QHq7wW8jLtRt",
        "outputId": "f1df23d1-4ff4-4c94-d827-7ba993470890"
      },
      "source": [
        "plt.plot(np.arange(-10, 10), -np.arange(-10, 10)*W[1][0]/W[0][0], c='g')\n",
        "plt.scatter(a[0], a[1], c='r')\n",
        "plt.scatter(b[0], b[1], c='b')"
      ],
      "execution_count": 293,
      "outputs": [
        {
          "output_type": "execute_result",
          "data": {
            "text/plain": [
              "<matplotlib.collections.PathCollection at 0x7f4858ca6a58>"
            ]
          },
          "metadata": {
            "tags": []
          },
          "execution_count": 293
        },
        {
          "output_type": "display_data",
          "data": {
            "image/png": "[encoded data removed]",
            "text/plain": [
              "<Figure size 432x288 with 1 Axes>"
            ]
          },
          "metadata": {
            "tags": [],
            "needs_background": "light"
          }
        }
      ]
    },
    {
      "cell_type": "markdown",
      "metadata": {
        "id": "icpTEU9mSouJ"
      },
      "source": [
        "After many iterations, we obtain solution that divides both the classes"
      ]
    },
    {
      "cell_type": "code",
      "metadata": {
        "colab": {
          "base_uri": "https://localhost:8080/"
        },
        "id": "O6idLG-aMdHw",
        "outputId": "8a47b471-fd1f-438d-bc7a-25d360921fa7"
      },
      "source": [
        "np.matmul(np.transpose(W), x[1])"
      ],
      "execution_count": 269,
      "outputs": [
        {
          "output_type": "execute_result",
          "data": {
            "text/plain": [
              "array([5.26422061])"
            ]
          },
          "metadata": {
            "tags": []
          },
          "execution_count": 269
        }
      ]
    },
    {
      "cell_type": "code",
      "metadata": {
        "id": "L0sGAMVQUMnB",
        "colab": {
          "base_uri": "https://localhost:8080/"
        },
        "outputId": "29d6b10e-1087-4ba3-e290-4622cc621f89"
      },
      "source": [
        "print(W)"
      ],
      "execution_count": 273,
      "outputs": [
        {
          "output_type": "stream",
          "text": [
            "[[-1.60039218]\n",
            " [ 1.34408513]]\n"
          ],
          "name": "stdout"
        }
      ]
    },
    {
      "cell_type": "code",
      "metadata": {
        "colab": {
          "base_uri": "https://localhost:8080/"
        },
        "id": "-oVChImWrElT",
        "outputId": "dc589015-42b7-44c7-9d63-71b55996e790"
      },
      "source": [
        "np.arange(-10, 10)*W[1][0]"
      ],
      "execution_count": 274,
      "outputs": [
        {
          "output_type": "execute_result",
          "data": {
            "text/plain": [
              "array([-13.44085129, -12.09676616, -10.75268103,  -9.4085959 ,\n",
              "        -8.06451077,  -6.72042564,  -5.37634052,  -4.03225539,\n",
              "        -2.68817026,  -1.34408513,   0.        ,   1.34408513,\n",
              "         2.68817026,   4.03225539,   5.37634052,   6.72042564,\n",
              "         8.06451077,   9.4085959 ,  10.75268103,  12.09676616])"
            ]
          },
          "metadata": {
            "tags": []
          },
          "execution_count": 274
        }
      ]
    },
    {
      "cell_type": "code",
      "metadata": {
        "colab": {
          "base_uri": "https://localhost:8080/"
        },
        "id": "Rh7eRc0XrlVL",
        "outputId": "ff972560-39ec-4c2e-95da-7e025dc232a2"
      },
      "source": [
        "-np.arange(-10, 10)*W[1][0]/W[0][0]"
      ],
      "execution_count": 275,
      "outputs": [
        {
          "output_type": "execute_result",
          "data": {
            "text/plain": [
              "array([-8.39847346, -7.55862611, -6.71877877, -5.87893142, -5.03908408,\n",
              "       -4.19923673, -3.35938938, -2.51954204, -1.67969469, -0.83984735,\n",
              "       -0.        ,  0.83984735,  1.67969469,  2.51954204,  3.35938938,\n",
              "        4.19923673,  5.03908408,  5.87893142,  6.71877877,  7.55862611])"
            ]
          },
          "metadata": {
            "tags": []
          },
          "execution_count": 275
        }
      ]
    },
    {
      "cell_type": "code",
      "metadata": {
        "id": "4hBPW0FFrp_b"
      },
      "source": [
        ""
      ],
      "execution_count": null,
      "outputs": []
    }
  ]
}