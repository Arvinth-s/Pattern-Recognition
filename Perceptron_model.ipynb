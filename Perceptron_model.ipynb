{
  "nbformat": 4,
  "nbformat_minor": 0,
  "metadata": {
    "colab": {
      "name": "Perceptron-model.ipynb",
      "provenance": [],
      "collapsed_sections": [],
      "authorship_tag": "ABX9TyOOZEh5u1gy30k9J6ObqE7u",
      "include_colab_link": true
    },
    "kernelspec": {
      "name": "python3",
      "display_name": "Python 3"
    }
  },
  "cells": [
    {
      "cell_type": "markdown",
      "metadata": {
        "id": "view-in-github",
        "colab_type": "text"
      },
      "source": [
        "<a href=\"https://colab.research.google.com/github/Arvinth-s/Pattern-Recognition/blob/main/Perceptron_model.ipynb\" target=\"_parent\"><img src=\"https://colab.research.google.com/assets/colab-badge.svg\" alt=\"Open In Colab\"/></a>"
      ]
    },
    {
      "cell_type": "code",
      "metadata": {
        "id": "BXB4cXFJAjG-"
      },
      "source": [
        "#OM NAMO NARAYANA"
      ],
      "execution_count": 221,
      "outputs": []
    },
    {
      "cell_type": "code",
      "metadata": {
        "id": "GKhYwTkTAk-h"
      },
      "source": [
        "import random\n",
        "import numpy as np\n",
        "import matplotlib.pyplot as plt"
      ],
      "execution_count": 222,
      "outputs": []
    },
    {
      "cell_type": "markdown",
      "metadata": {
        "id": "UcF7NX_fQ3U1"
      },
      "source": [
        "**Rotation matrix**<br>\n",
        "We generate a rotation matrix that rotates the axis to theta ( +30 degrees)\n"
      ]
    },
    {
      "cell_type": "code",
      "metadata": {
        "colab": {
          "base_uri": "https://localhost:8080/"
        },
        "id": "_uJY7LRUCyiL",
        "outputId": "29b601ad-f74a-457c-e53c-b22e22b681a2"
      },
      "source": [
        "theta = np.radians(30)\n",
        "cos_term, sin_term = np.cos(theta), np.sin(theta)\n",
        "R = np.array(((cos_term, -sin_term), (sin_term, cos_term)))\n",
        "print(R)"
      ],
      "execution_count": 223,
      "outputs": [
        {
          "output_type": "stream",
          "text": [
            "[[ 0.8660254 -0.5      ]\n",
            " [ 0.5        0.8660254]]\n"
          ],
          "name": "stdout"
        }
      ]
    },
    {
      "cell_type": "markdown",
      "metadata": {
        "id": "y1-9ptUTRPhM"
      },
      "source": [
        "N : number of datapoints in each classes<br>\n",
        "M : dimension of each datapoint (here we take as 2 so they can be represented in a plane)"
      ]
    },
    {
      "cell_type": "code",
      "metadata": {
        "id": "EJ0WNn2KH-J6"
      },
      "source": [
        "N = 50\n",
        "M = 2"
      ],
      "execution_count": 224,
      "outputs": []
    },
    {
      "cell_type": "code",
      "metadata": {
        "colab": {
          "base_uri": "https://localhost:8080/",
          "height": 265
        },
        "id": "v4ktoT6DAsBx",
        "outputId": "6fe62744-68d2-406b-8607-91fb67b85b8c"
      },
      "source": [
        "a = np.random.randn(N, M)\n",
        "x = np.transpose(a)[0]\n",
        "y = np.transpose(a)[1]\n",
        "y = y - np.min(y) + 0.7\n",
        "plt.scatter(x, y)\n",
        "a = [x, y]"
      ],
      "execution_count": 225,
      "outputs": [
        {
          "output_type": "display_data",
          "data": {
            "image/png": "[encoded data removed]",
            "text/plain": [
              "<Figure size 432x288 with 1 Axes>"
            ]
          },
          "metadata": {
            "tags": [],
            "needs_background": "light"
          }
        }
      ]
    },
    {
      "cell_type": "markdown",
      "metadata": {
        "id": "9M-F0xphRfbw"
      },
      "source": [
        "We generate random datapoints for class 1 and make the value of y greater than 0 for all datapoints"
      ]
    },
    {
      "cell_type": "code",
      "metadata": {
        "colab": {
          "base_uri": "https://localhost:8080/",
          "height": 265
        },
        "id": "OatPDPYSAw8V",
        "outputId": "c9be07b5-fb6c-40a0-ea16-7fffe8294a06"
      },
      "source": [
        "b = np.random.randn(N, M)\n",
        "x = np.transpose(b)[0]\n",
        "y = np.transpose(b)[1]\n",
        "y = y - np.max(y) - 0.7\n",
        "plt.scatter(x, y)\n",
        "b = [x, y]"
      ],
      "execution_count": 226,
      "outputs": [
        {
          "output_type": "display_data",
          "data": {
            "image/png": "[encoded data removed]",
            "text/plain": [
              "<Figure size 432x288 with 1 Axes>"
            ]
          },
          "metadata": {
            "tags": [],
            "needs_background": "light"
          }
        }
      ]
    },
    {
      "cell_type": "markdown",
      "metadata": {
        "id": "ejTbYDraRtoz"
      },
      "source": [
        "We generate random datapoints for class 1 and make the value of y greater than 0 for all datapoints"
      ]
    },
    {
      "cell_type": "code",
      "metadata": {
        "colab": {
          "base_uri": "https://localhost:8080/",
          "height": 265
        },
        "id": "o74YBBKZCB8E",
        "outputId": "db883046-0515-4a8e-97d3-16c9969c2921"
      },
      "source": [
        "plt.scatter(a[0], a[1],c='r')\n",
        "plt.scatter(b[0], b[1],c='b')\n",
        "plt.show()"
      ],
      "execution_count": 227,
      "outputs": [
        {
          "output_type": "display_data",
          "data": {
            "image/png": "[encoded data removed]",
            "text/plain": [
              "<Figure size 432x288 with 1 Axes>"
            ]
          },
          "metadata": {
            "tags": [],
            "needs_background": "light"
          }
        }
      ]
    },
    {
      "cell_type": "markdown",
      "metadata": {
        "id": "dlgb6lWhRx_d"
      },
      "source": [
        "Datapoints belonging to class A is plotted in red and class B is plotted in blue. As seen from the figure, all the datapoints in class A lies above X axis (y=0) and datapoints in class B lies below X axis"
      ]
    },
    {
      "cell_type": "code",
      "metadata": {
        "colab": {
          "base_uri": "https://localhost:8080/",
          "height": 265
        },
        "id": "o4_fxoUYD3mM",
        "outputId": "dffa2df5-9e0a-4ab7-efd9-6a79a75df5af"
      },
      "source": [
        "a = np.matmul(R, a)\n",
        "plt.scatter(a[0], a[1], c='r')\n",
        "b = np.matmul(R, b)\n",
        "plt.scatter(b[0], b[1], c='b')\n",
        "plt.show()"
      ],
      "execution_count": 228,
      "outputs": [
        {
          "output_type": "display_data",
          "data": {
            "image/png": "[encoded data removed]",
            "text/plain": [
              "<Figure size 432x288 with 1 Axes>"
            ]
          },
          "metadata": {
            "tags": [],
            "needs_background": "light"
          }
        }
      ]
    },
    {
      "cell_type": "markdown",
      "metadata": {
        "id": "Y92kuLzbSMt4"
      },
      "source": [
        "The datapoints are rotated at 30 degrees"
      ]
    },
    {
      "cell_type": "code",
      "metadata": {
        "colab": {
          "base_uri": "https://localhost:8080/",
          "height": 318
        },
        "id": "6Xe5RZcwER_5",
        "outputId": "39e64a52-3da5-416f-febf-173617961057"
      },
      "source": [
        "W = np.random.randn(2, 1)\n",
        "print(W)\n",
        "plt.plot(np.arange(-10, 10)*W[0][0], np.arange(-10, 10)*W[1][0])"
      ],
      "execution_count": 229,
      "outputs": [
        {
          "output_type": "stream",
          "text": [
            "[[1.17790616]\n",
            " [0.03325905]]\n"
          ],
          "name": "stdout"
        },
        {
          "output_type": "execute_result",
          "data": {
            "text/plain": [
              "[<matplotlib.lines.Line2D at 0x7f4858f97470>]"
            ]
          },
          "metadata": {
            "tags": []
          },
          "execution_count": 229
        },
        {
          "output_type": "display_data",
          "data": {
            "image/png": "[encoded data removed]",
            "text/plain": [
              "<Figure size 432x288 with 1 Axes>"
            ]
          },
          "metadata": {
            "tags": [],
            "needs_background": "light"
          }
        }
      ]
    },
    {
      "cell_type": "markdown",
      "metadata": {
        "id": "8yjelZzHSSF6"
      },
      "source": [
        "The weights are genereated randomly. <br>\n",
        "Note: We don't use bias hence the line always passes through origin. But in the general implementation we have bias term"
      ]
    },
    {
      "cell_type": "code",
      "metadata": {
        "colab": {
          "base_uri": "https://localhost:8080/",
          "height": 283
        },
        "id": "mldJhgDqE4zt",
        "outputId": "46fe7249-9d0d-4aec-aa8d-1956de3deed0"
      },
      "source": [
        "plt.plot(np.arange(-10, 10)*W[0][0], np.arange(-10, 10)*W[1][0], c='g')\n",
        "plt.scatter(a[0], a[1], c='r')\n",
        "plt.scatter(b[0], b[1], c='b')"
      ],
      "execution_count": 230,
      "outputs": [
        {
          "output_type": "execute_result",
          "data": {
            "text/plain": [
              "<matplotlib.collections.PathCollection at 0x7f4858f74c18>"
            ]
          },
          "metadata": {
            "tags": []
          },
          "execution_count": 230
        },
        {
          "output_type": "display_data",
          "data": {
            "image/png": "[encoded data removed]",
            "text/plain": [
              "<Figure size 432x288 with 1 Axes>"
            ]
          },
          "metadata": {
            "tags": [],
            "needs_background": "light"
          }
        }
      ]
    },
    {
      "cell_type": "code",
      "metadata": {
        "colab": {
          "base_uri": "https://localhost:8080/"
        },
        "id": "MbMmi7owKrzK",
        "outputId": "a762a606-265f-41f2-cc44-10dcb1db7df6"
      },
      "source": [
        "x = [[], []]\n",
        "print(x[1])\n",
        "for i in range(N):\n",
        "  x[0].append(a[0][i])\n",
        "  x[1].append(a[1][i])\n",
        "for i in range(N):\n",
        "  x[0].append(b[0][i])\n",
        "  x[1].append(b[1][i])\n",
        "x = np.array(x)\n",
        "print(x.shape)\n",
        "x = np.transpose(x)"
      ],
      "execution_count": 231,
      "outputs": [
        {
          "output_type": "stream",
          "text": [
            "[]\n",
            "(2, 100)\n"
          ],
          "name": "stdout"
        }
      ]
    },
    {
      "cell_type": "code",
      "metadata": {
        "id": "p0KxIlS7GcoD",
        "colab": {
          "base_uri": "https://localhost:8080/"
        },
        "outputId": "0be4835b-ef26-4ceb-9d70-65eab17260d6"
      },
      "source": [
        "lr = 0.1\n",
        "for i in range(100):\n",
        "  n = np.random.randint(2*N)\n",
        "  if((n < N and np.matmul(np.transpose(W), x[n])[0] < 0)):\n",
        "    print(n)\n",
        "    W = W + lr * np.transpose([x[n]] )\n",
        "  if((n >= N and np.matmul(np.transpose(W), x[n])[0] > 0)):\n",
        "    W = W - lr * np.transpose([x[n]] )\n",
        "    print(n)\n",
        "    # print(np.matmul(np.transpose(W), x[n])[0])\n",
        "    W = W + lr * np.transpose([x[n]] )\n",
        "    # print(W.shape)\n",
        "    # print(x[n])"
      ],
      "execution_count": 232,
      "outputs": [
        {
          "output_type": "stream",
          "text": [
            "26\n",
            "6\n",
            "28\n",
            "95\n",
            "32\n",
            "84\n"
          ],
          "name": "stdout"
        }
      ]
    },
    {
      "cell_type": "code",
      "metadata": {
        "colab": {
          "base_uri": "https://localhost:8080/",
          "height": 283
        },
        "id": "QHq7wW8jLtRt",
        "outputId": "b64bd47c-b8c0-43f5-ef79-743ff5cc873a"
      },
      "source": [
        "plt.plot(np.arange(-10, 10)*W[0][0], np.arange(-10, 10)*W[1][0], c='g')\n",
        "plt.scatter(a[0], a[1], c='r')\n",
        "plt.scatter(b[0], b[1], c='b')"
      ],
      "execution_count": 233,
      "outputs": [
        {
          "output_type": "execute_result",
          "data": {
            "text/plain": [
              "<matplotlib.collections.PathCollection at 0x7f4858edd940>"
            ]
          },
          "metadata": {
            "tags": []
          },
          "execution_count": 233
        },
        {
          "output_type": "display_data",
          "data": {
            "image/png": "[encoded data removed]",
            "text/plain": [
              "<Figure size 432x288 with 1 Axes>"
            ]
          },
          "metadata": {
            "tags": [],
            "needs_background": "light"
          }
        }
      ]
    },
    {
      "cell_type": "markdown",
      "metadata": {
        "id": "icpTEU9mSouJ"
      },
      "source": [
        "After many iterations, we obtain solution that divides both the classes"
      ]
    },
    {
      "cell_type": "code",
      "metadata": {
        "colab": {
          "base_uri": "https://localhost:8080/"
        },
        "id": "O6idLG-aMdHw",
        "outputId": "4fc4c3d8-c474-4da9-84b3-d6a5f90b611f"
      },
      "source": [
        "np.matmul(np.transpose(W), x[1])"
      ],
      "execution_count": 234,
      "outputs": [
        {
          "output_type": "execute_result",
          "data": {
            "text/plain": [
              "array([0.76393042])"
            ]
          },
          "metadata": {
            "tags": []
          },
          "execution_count": 234
        }
      ]
    },
    {
      "cell_type": "code",
      "metadata": {
        "id": "L0sGAMVQUMnB"
      },
      "source": [
        ""
      ],
      "execution_count": 234,
      "outputs": []
    }
  ]
}