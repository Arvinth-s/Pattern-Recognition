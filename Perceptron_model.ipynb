{
  "nbformat": 4,
  "nbformat_minor": 0,
  "metadata": {
    "colab": {
      "name": "Perceptron-model.ipynb",
      "provenance": [],
      "collapsed_sections": [],
      "authorship_tag": "ABX9TyMgGTrJbY1ggg2JUEFe3vGM",
      "include_colab_link": true
    },
    "kernelspec": {
      "name": "python3",
      "display_name": "Python 3"
    }
  },
  "cells": [
    {
      "cell_type": "markdown",
      "metadata": {
        "id": "view-in-github",
        "colab_type": "text"
      },
      "source": [
        "<a href=\"https://colab.research.google.com/github/Arvinth-s/Pattern-Recognition/blob/main/Perceptron_model.ipynb\" target=\"_parent\"><img src=\"https://colab.research.google.com/assets/colab-badge.svg\" alt=\"Open In Colab\"/></a>"
      ]
    },
    {
      "cell_type": "code",
      "metadata": {
        "id": "BXB4cXFJAjG-"
      },
      "source": [
        "#OM NAMO NARAYANA"
      ],
      "execution_count": 1,
      "outputs": []
    },
    {
      "cell_type": "code",
      "metadata": {
        "id": "GKhYwTkTAk-h"
      },
      "source": [
        "import random\n",
        "import numpy as np\n",
        "import matplotlib.pyplot as plt"
      ],
      "execution_count": 8,
      "outputs": []
    },
    {
      "cell_type": "markdown",
      "metadata": {
        "id": "UcF7NX_fQ3U1"
      },
      "source": [
        "**Rotation matrix**<br>\n",
        "We generate a rotation matrix that rotates the axis to theta ( +30 degrees)\n"
      ]
    },
    {
      "cell_type": "code",
      "metadata": {
        "colab": {
          "base_uri": "https://localhost:8080/"
        },
        "id": "_uJY7LRUCyiL",
        "outputId": "70ade5d7-c15c-4c78-c486-e8534bed1e83"
      },
      "source": [
        "theta = np.radians(30)\n",
        "cos_term, sin_term = np.cos(theta), np.sin(theta)\n",
        "R = np.array(((cos_term, -sin_term), (sin_term, cos_term)))\n",
        "print(R)"
      ],
      "execution_count": 32,
      "outputs": [
        {
          "output_type": "stream",
          "text": [
            "[[ 0.8660254 -0.5      ]\n",
            " [ 0.5        0.8660254]]\n"
          ],
          "name": "stdout"
        }
      ]
    },
    {
      "cell_type": "markdown",
      "metadata": {
        "id": "y1-9ptUTRPhM"
      },
      "source": [
        "N : number of datapoints in each classes<br>\n",
        "M : dimension of each datapoint (here we take as 2 so they can be represented in a plane)"
      ]
    },
    {
      "cell_type": "code",
      "metadata": {
        "id": "EJ0WNn2KH-J6"
      },
      "source": [
        "N = 50\n",
        "M = 2"
      ],
      "execution_count": 168,
      "outputs": []
    },
    {
      "cell_type": "code",
      "metadata": {
        "colab": {
          "base_uri": "https://localhost:8080/",
          "height": 265
        },
        "id": "v4ktoT6DAsBx",
        "outputId": "81cb103b-c6df-4573-a61b-fc15a8b77a57"
      },
      "source": [
        "a = np.random.randn(N, M)\n",
        "x = np.transpose(a)[0]\n",
        "y = np.transpose(a)[1]\n",
        "y = y - np.min(y) + 0.7\n",
        "plt.scatter(x, y)\n",
        "a = [x, y]"
      ],
      "execution_count": 183,
      "outputs": [
        {
          "output_type": "display_data",
          "data": {
            "image/png": "[encoded data removed]",
            "text/plain": [
              "<Figure size 432x288 with 1 Axes>"
            ]
          },
          "metadata": {
            "tags": [],
            "needs_background": "light"
          }
        }
      ]
    },
    {
      "cell_type": "markdown",
      "metadata": {
        "id": "9M-F0xphRfbw"
      },
      "source": [
        "We generate random datapoints for class 1 and make the value of y greater than 0 for all datapoints"
      ]
    },
    {
      "cell_type": "code",
      "metadata": {
        "colab": {
          "base_uri": "https://localhost:8080/",
          "height": 265
        },
        "id": "OatPDPYSAw8V",
        "outputId": "2ee660df-3f2f-43d5-fa2c-7509644ae90e"
      },
      "source": [
        "b = np.random.randn(N, M)\n",
        "x = np.transpose(b)[0]\n",
        "y = np.transpose(b)[1]\n",
        "y = y - np.max(y) - 0.7\n",
        "plt.scatter(x, y)\n",
        "b = [x, y]"
      ],
      "execution_count": 184,
      "outputs": [
        {
          "output_type": "display_data",
          "data": {
            "image/png": "[encoded data removed]",
            "text/plain": [
              "<Figure size 432x288 with 1 Axes>"
            ]
          },
          "metadata": {
            "tags": [],
            "needs_background": "light"
          }
        }
      ]
    },
    {
      "cell_type": "markdown",
      "metadata": {
        "id": "ejTbYDraRtoz"
      },
      "source": [
        "We generate random datapoints for class 1 and make the value of y greater than 0 for all datapoints"
      ]
    },
    {
      "cell_type": "code",
      "metadata": {
        "colab": {
          "base_uri": "https://localhost:8080/",
          "height": 269
        },
        "id": "o74YBBKZCB8E",
        "outputId": "4abffd54-fbe4-464e-8247-a0e422a79616"
      },
      "source": [
        "plt.scatter(a[0], a[1],c='r')\n",
        "plt.scatter(b[0], b[1],c='b')\n",
        "plt.show()"
      ],
      "execution_count": 185,
      "outputs": [
        {
          "output_type": "display_data",
          "data": {
            "image/png": "[encoded data removed]",
            "text/plain": [
              "<Figure size 432x288 with 1 Axes>"
            ]
          },
          "metadata": {
            "tags": [],
            "needs_background": "light"
          }
        }
      ]
    },
    {
      "cell_type": "markdown",
      "metadata": {
        "id": "dlgb6lWhRx_d"
      },
      "source": [
        "Datapoints belonging to class A is plotted in red and class B is plotted in blue. As seen from the figure, all the datapoints in class A lies above X axis (y=0) and datapoints in class B lies below X axis"
      ]
    },
    {
      "cell_type": "code",
      "metadata": {
        "colab": {
          "base_uri": "https://localhost:8080/",
          "height": 265
        },
        "id": "o4_fxoUYD3mM",
        "outputId": "45a57a35-3e85-481c-df38-3775ba2c5106"
      },
      "source": [
        "a = np.matmul(R, a)\n",
        "plt.scatter(a[0], a[1], c='r')\n",
        "b = np.matmul(R, b)\n",
        "plt.scatter(b[0], b[1], c='b')\n",
        "plt.show()"
      ],
      "execution_count": 186,
      "outputs": [
        {
          "output_type": "display_data",
          "data": {
            "image/png": "[encoded data removed]",
            "text/plain": [
              "<Figure size 432x288 with 1 Axes>"
            ]
          },
          "metadata": {
            "tags": [],
            "needs_background": "light"
          }
        }
      ]
    },
    {
      "cell_type": "markdown",
      "metadata": {
        "id": "Y92kuLzbSMt4"
      },
      "source": [
        "The datapoints are rotated at 30 degrees"
      ]
    },
    {
      "cell_type": "code",
      "metadata": {
        "colab": {
          "base_uri": "https://localhost:8080/",
          "height": 318
        },
        "id": "6Xe5RZcwER_5",
        "outputId": "93fcfda4-b862-4ec4-f855-0f01fa43211e"
      },
      "source": [
        "W = np.random.randn(2, 1)\n",
        "print(W)\n",
        "plt.plot(np.arange(-10, 10)*W[0][0], np.arange(-10, 10)*W[1][0])"
      ],
      "execution_count": 187,
      "outputs": [
        {
          "output_type": "stream",
          "text": [
            "[[ 0.78457642]\n",
            " [-1.51549172]]\n"
          ],
          "name": "stdout"
        },
        {
          "output_type": "execute_result",
          "data": {
            "text/plain": [
              "[<matplotlib.lines.Line2D at 0x7f48593f8438>]"
            ]
          },
          "metadata": {
            "tags": []
          },
          "execution_count": 187
        },
        {
          "output_type": "display_data",
          "data": {
            "image/png": "[encoded data removed]",
            "text/plain": [
              "<Figure size 432x288 with 1 Axes>"
            ]
          },
          "metadata": {
            "tags": [],
            "needs_background": "light"
          }
        }
      ]
    },
    {
      "cell_type": "markdown",
      "metadata": {
        "id": "8yjelZzHSSF6"
      },
      "source": [
        "The weights are genereated randomly. <br>\n",
        "Note: We don't use bias hence the line always passes through origin. But in the general implementation we have bias term"
      ]
    },
    {
      "cell_type": "code",
      "metadata": {
        "colab": {
          "base_uri": "https://localhost:8080/",
          "height": 283
        },
        "id": "mldJhgDqE4zt",
        "outputId": "503029c7-b40d-4014-9c5c-1ebe7aa817b7"
      },
      "source": [
        "plt.plot(np.arange(-10, 10)*W[0][0], np.arange(-10, 10)*W[1][0], c='g')\n",
        "plt.scatter(a[0], a[1], c='r')\n",
        "plt.scatter(b[0], b[1], c='b')"
      ],
      "execution_count": 188,
      "outputs": [
        {
          "output_type": "execute_result",
          "data": {
            "text/plain": [
              "<matplotlib.collections.PathCollection at 0x7f48593df908>"
            ]
          },
          "metadata": {
            "tags": []
          },
          "execution_count": 188
        },
        {
          "output_type": "display_data",
          "data": {
            "image/png": "[encoded data removed]",
            "text/plain": [
              "<Figure size 432x288 with 1 Axes>"
            ]
          },
          "metadata": {
            "tags": [],
            "needs_background": "light"
          }
        }
      ]
    },
    {
      "cell_type": "code",
      "metadata": {
        "colab": {
          "base_uri": "https://localhost:8080/"
        },
        "id": "MbMmi7owKrzK",
        "outputId": "45cf5c51-fd53-4140-b285-35327f6806b9"
      },
      "source": [
        "x = [[], []]\n",
        "print(x[1])\n",
        "for i in range(N):\n",
        "  x[0].append(a[0][i])\n",
        "  x[1].append(a[1][i])\n",
        "for i in range(N):\n",
        "  x[0].append(b[0][i])\n",
        "  x[1].append(b[1][i])\n",
        "x = np.array(x)\n",
        "print(x.shape)\n",
        "x = np.transpose(x)"
      ],
      "execution_count": 189,
      "outputs": [
        {
          "output_type": "stream",
          "text": [
            "[]\n",
            "(2, 100)\n"
          ],
          "name": "stdout"
        }
      ]
    },
    {
      "cell_type": "code",
      "metadata": {
        "id": "p0KxIlS7GcoD"
      },
      "source": [
        "lr = 0.1\n",
        "for i in range(100):\n",
        "  n = np.random.randint(2*N)\n",
        "  if((n < N and np.matmul(np.transpose(W), x[n])[0] < 0) or (n >= N and np.matmul(np.transpose(W), x[n])[0] > 0)):\n",
        "    print(n)\n",
        "    # print(np.matmul(np.transpose(W), x[n])[0])\n",
        "    W = W + lr * np.transpose([x[n]] )\n",
        "    # print(W.shape)\n",
        "    # print(x[n])"
      ],
      "execution_count": 198,
      "outputs": []
    },
    {
      "cell_type": "code",
      "metadata": {
        "colab": {
          "base_uri": "https://localhost:8080/",
          "height": 283
        },
        "id": "QHq7wW8jLtRt",
        "outputId": "9f33faa9-682e-4a65-b23b-c3f5a330c657"
      },
      "source": [
        "plt.plot(np.arange(-10, 10)*W[0][0], np.arange(-10, 10)*W[1][0], c='g')\n",
        "plt.scatter(a[0], a[1], c='r')\n",
        "plt.scatter(b[0], b[1], c='b')"
      ],
      "execution_count": 199,
      "outputs": [
        {
          "output_type": "execute_result",
          "data": {
            "text/plain": [
              "<matplotlib.collections.PathCollection at 0x7f4859fb7080>"
            ]
          },
          "metadata": {
            "tags": []
          },
          "execution_count": 199
        },
        {
          "output_type": "display_data",
          "data": {
            "image/png": "[encoded data removed]",
            "text/plain": [
              "<Figure size 432x288 with 1 Axes>"
            ]
          },
          "metadata": {
            "tags": [],
            "needs_background": "light"
          }
        }
      ]
    },
    {
      "cell_type": "markdown",
      "metadata": {
        "id": "icpTEU9mSouJ"
      },
      "source": [
        "After many iterations, we obtain solution that divides both the classes"
      ]
    },
    {
      "cell_type": "code",
      "metadata": {
        "colab": {
          "base_uri": "https://localhost:8080/"
        },
        "id": "O6idLG-aMdHw",
        "outputId": "7d5cd479-3a69-43a6-ef56-0cda571454f3"
      },
      "source": [
        "np.matmul(np.transpose(W), x[1])"
      ],
      "execution_count": 178,
      "outputs": [
        {
          "output_type": "execute_result",
          "data": {
            "text/plain": [
              "array([-7.21892308])"
            ]
          },
          "metadata": {
            "tags": []
          },
          "execution_count": 178
        }
      ]
    }
  ]
}