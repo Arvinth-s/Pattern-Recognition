{
  "nbformat": 4,
  "nbformat_minor": 0,
  "metadata": {
    "colab": {
      "name": "Perceptron-model.ipynb",
      "provenance": [],
      "collapsed_sections": [],
      "authorship_tag": "ABX9TyMNZDXjIfyK+gDciTdgGyxn",
      "include_colab_link": true
    },
    "kernelspec": {
      "name": "python3",
      "display_name": "Python 3"
    }
  },
  "cells": [
    {
      "cell_type": "markdown",
      "metadata": {
        "id": "view-in-github",
        "colab_type": "text"
      },
      "source": [
        "<a href=\"https://colab.research.google.com/github/Arvinth-s/Pattern-Recognition/blob/main/Perceptron_model.ipynb\" target=\"_parent\"><img src=\"https://colab.research.google.com/assets/colab-badge.svg\" alt=\"Open In Colab\"/></a>"
      ]
    },
    {
      "cell_type": "code",
      "metadata": {
        "id": "BXB4cXFJAjG-"
      },
      "source": [
        "#OM NAMO NARAYANA"
      ],
      "execution_count": 221,
      "outputs": []
    },
    {
      "cell_type": "code",
      "metadata": {
        "id": "GKhYwTkTAk-h"
      },
      "source": [
        "import random\n",
        "import numpy as np\n",
        "import matplotlib.pyplot as plt"
      ],
      "execution_count": 222,
      "outputs": []
    },
    {
      "cell_type": "markdown",
      "metadata": {
        "id": "UcF7NX_fQ3U1"
      },
      "source": [
        "**Rotation matrix**<br>\n",
        "We generate a rotation matrix that rotates the axis to theta ( +30 degrees)\n"
      ]
    },
    {
      "cell_type": "code",
      "metadata": {
        "colab": {
          "base_uri": "https://localhost:8080/"
        },
        "id": "_uJY7LRUCyiL",
        "outputId": "29b601ad-f74a-457c-e53c-b22e22b681a2"
      },
      "source": [
        "theta = np.radians(30)\n",
        "cos_term, sin_term = np.cos(theta), np.sin(theta)\n",
        "R = np.array(((cos_term, -sin_term), (sin_term, cos_term)))\n",
        "print(R)"
      ],
      "execution_count": 223,
      "outputs": [
        {
          "output_type": "stream",
          "text": [
            "[[ 0.8660254 -0.5      ]\n",
            " [ 0.5        0.8660254]]\n"
          ],
          "name": "stdout"
        }
      ]
    },
    {
      "cell_type": "markdown",
      "metadata": {
        "id": "y1-9ptUTRPhM"
      },
      "source": [
        "N : number of datapoints in each classes<br>\n",
        "M : dimension of each datapoint (here we take as 2 so they can be represented in a plane)"
      ]
    },
    {
      "cell_type": "code",
      "metadata": {
        "id": "EJ0WNn2KH-J6"
      },
      "source": [
        "N = 50\n",
        "M = 2"
      ],
      "execution_count": 278,
      "outputs": []
    },
    {
      "cell_type": "code",
      "metadata": {
        "colab": {
          "base_uri": "https://localhost:8080/",
          "height": 265
        },
        "id": "v4ktoT6DAsBx",
        "outputId": "4f4acd1f-c85f-4b3c-8d60-d53784d3a269"
      },
      "source": [
        "a = np.random.randn(N, M)\n",
        "x = np.transpose(a)[0]\n",
        "y = np.transpose(a)[1]\n",
        "y = y - np.min(y) + 1\n",
        "plt.scatter(x, y)\n",
        "a = [x, y]"
      ],
      "execution_count": 434,
      "outputs": [
        {
          "output_type": "display_data",
          "data": {
            "image/png": "[encoded data removed]",
            "text/plain": [
              "<Figure size 432x288 with 1 Axes>"
            ]
          },
          "metadata": {
            "tags": [],
            "needs_background": "light"
          }
        }
      ]
    },
    {
      "cell_type": "markdown",
      "metadata": {
        "id": "9M-F0xphRfbw"
      },
      "source": [
        "We generate random datapoints for class 1 and make the value of y greater than 0 for all datapoints"
      ]
    },
    {
      "cell_type": "code",
      "metadata": {
        "colab": {
          "base_uri": "https://localhost:8080/",
          "height": 265
        },
        "id": "OatPDPYSAw8V",
        "outputId": "a419a8d3-0a75-4505-d1cf-685792a8ee92"
      },
      "source": [
        "b = np.random.randn(N, M)\n",
        "x = np.transpose(b)[0]\n",
        "y = np.transpose(b)[1]\n",
        "y = y - np.max(y) - 1\n",
        "plt.scatter(x, y)\n",
        "b = [x, y]"
      ],
      "execution_count": 435,
      "outputs": [
        {
          "output_type": "display_data",
          "data": {
            "image/png": "[encoded data removed]",
            "text/plain": [
              "<Figure size 432x288 with 1 Axes>"
            ]
          },
          "metadata": {
            "tags": [],
            "needs_background": "light"
          }
        }
      ]
    },
    {
      "cell_type": "markdown",
      "metadata": {
        "id": "ejTbYDraRtoz"
      },
      "source": [
        "We generate random datapoints for class 1 and make the value of y greater than 0 for all datapoints"
      ]
    },
    {
      "cell_type": "code",
      "metadata": {
        "colab": {
          "base_uri": "https://localhost:8080/",
          "height": 265
        },
        "id": "o74YBBKZCB8E",
        "outputId": "f43b7059-b446-4855-a92b-fa73e48d471c"
      },
      "source": [
        "plt.scatter(a[0], a[1],c='r')\n",
        "plt.scatter(b[0], b[1],c='b')\n",
        "plt.show()"
      ],
      "execution_count": 436,
      "outputs": [
        {
          "output_type": "display_data",
          "data": {
            "image/png": "[encoded data removed]",
            "text/plain": [
              "<Figure size 432x288 with 1 Axes>"
            ]
          },
          "metadata": {
            "tags": [],
            "needs_background": "light"
          }
        }
      ]
    },
    {
      "cell_type": "markdown",
      "metadata": {
        "id": "dlgb6lWhRx_d"
      },
      "source": [
        "Datapoints belonging to class A is plotted in red and class B is plotted in blue. As seen from the figure, all the datapoints in class A lies above X axis (y=0) and datapoints in class B lies below X axis"
      ]
    },
    {
      "cell_type": "code",
      "metadata": {
        "colab": {
          "base_uri": "https://localhost:8080/",
          "height": 265
        },
        "id": "o4_fxoUYD3mM",
        "outputId": "f90e32eb-75ab-453b-b6d5-86b5ef6a5fbd"
      },
      "source": [
        "a = np.matmul(R, a)\n",
        "plt.scatter(a[0], a[1], c='r')\n",
        "b = np.matmul(R, b)\n",
        "plt.scatter(b[0], b[1], c='b')\n",
        "plt.show()"
      ],
      "execution_count": 437,
      "outputs": [
        {
          "output_type": "display_data",
          "data": {
            "image/png": "[encoded data removed]",
            "text/plain": [
              "<Figure size 432x288 with 1 Axes>"
            ]
          },
          "metadata": {
            "tags": [],
            "needs_background": "light"
          }
        }
      ]
    },
    {
      "cell_type": "markdown",
      "metadata": {
        "id": "Y92kuLzbSMt4"
      },
      "source": [
        "The datapoints are rotated at 30 degrees"
      ]
    },
    {
      "cell_type": "code",
      "metadata": {
        "colab": {
          "base_uri": "https://localhost:8080/",
          "height": 318
        },
        "id": "6Xe5RZcwER_5",
        "outputId": "9a0f415b-1fc2-4215-e615-e30cfd32a40c"
      },
      "source": [
        "W = np.random.randn(2, 1)\n",
        "print(W)\n",
        "plt.plot(np.arange(-10, 10), -np.arange(-10, 10)*(W[0][0]/W[1][0]), c='g')"
      ],
      "execution_count": 530,
      "outputs": [
        {
          "output_type": "stream",
          "text": [
            "[[0.80826465]\n",
            " [0.936766  ]]\n"
          ],
          "name": "stdout"
        },
        {
          "output_type": "execute_result",
          "data": {
            "text/plain": [
              "[<matplotlib.lines.Line2D at 0x7f485575b978>]"
            ]
          },
          "metadata": {
            "tags": []
          },
          "execution_count": 530
        },
        {
          "output_type": "display_data",
          "data": {
            "image/png": "[encoded data removed]",
            "text/plain": [
              "<Figure size 432x288 with 1 Axes>"
            ]
          },
          "metadata": {
            "tags": [],
            "needs_background": "light"
          }
        }
      ]
    },
    {
      "cell_type": "markdown",
      "metadata": {
        "id": "8yjelZzHSSF6"
      },
      "source": [
        "The weights are genereated randomly. <br>\n",
        "Note: We don't use bias hence the line always passes through origin. But in the general implementation we have bias term"
      ]
    },
    {
      "cell_type": "code",
      "metadata": {
        "colab": {
          "base_uri": "https://localhost:8080/",
          "height": 283
        },
        "id": "mldJhgDqE4zt",
        "outputId": "9bb25cd3-851a-43d1-cb8a-beeedb8f5183"
      },
      "source": [
        "plt.plot(np.arange(-10, 10), -np.arange(-10, 10)*(W[0][0]/W[1][0]), c='g')\n",
        "plt.scatter(a[0], a[1], c='r')\n",
        "plt.scatter(b[0], b[1], c='b')"
      ],
      "execution_count": 531,
      "outputs": [
        {
          "output_type": "execute_result",
          "data": {
            "text/plain": [
              "<matplotlib.collections.PathCollection at 0x7f48556ce080>"
            ]
          },
          "metadata": {
            "tags": []
          },
          "execution_count": 531
        },
        {
          "output_type": "display_data",
          "data": {
            "image/png": "[encoded data removed]",
            "text/plain": [
              "<Figure size 432x288 with 1 Axes>"
            ]
          },
          "metadata": {
            "tags": [],
            "needs_background": "light"
          }
        }
      ]
    },
    {
      "cell_type": "code",
      "metadata": {
        "colab": {
          "base_uri": "https://localhost:8080/"
        },
        "id": "MbMmi7owKrzK",
        "outputId": "40bee26f-c8bf-4a75-d2a0-8e75f7f5cfa0"
      },
      "source": [
        "x = [[], []]\n",
        "print(x[1])\n",
        "for i in range(N):\n",
        "  x[0].append(a[0][i])\n",
        "  x[1].append(a[1][i])\n",
        "for i in range(N):\n",
        "  x[0].append(b[0][i])\n",
        "  x[1].append(b[1][i])\n",
        "x = np.array(x)\n",
        "print(x.shape)\n",
        "x = np.transpose(x)"
      ],
      "execution_count": 532,
      "outputs": [
        {
          "output_type": "stream",
          "text": [
            "[]\n",
            "(2, 100)\n"
          ],
          "name": "stdout"
        }
      ]
    },
    {
      "cell_type": "code",
      "metadata": {
        "id": "p0KxIlS7GcoD",
        "colab": {
          "base_uri": "https://localhost:8080/"
        },
        "outputId": "3f730fa9-2be3-408e-f060-d9de07a32d86"
      },
      "source": [
        "lr = 0.01\n",
        "for j in range(10):\n",
        "  count = 0\n",
        "  for i in range(100):\n",
        "    n = np.random.randint(2*N)\n",
        "    # print(n)\n",
        "    \n",
        "    # print(n, np.matmul(np.transpose(W), x[n]))\n",
        "    if((n < N and np.matmul(np.transpose(W), x[n])[0] < 0)):\n",
        "      # print(n)\n",
        "      count += 1\n",
        "      W = W + lr * np.transpose([x[n]] )\n",
        "    if((n >= N and np.matmul(np.transpose(W), x[n])[0] > 0)):\n",
        "      W = W - lr * np.transpose([x[n]])\n",
        "      # print(n)\n",
        "      count += 1\n",
        "  print(count)"
      ],
      "execution_count": 533,
      "outputs": [
        {
          "output_type": "stream",
          "text": [
            "10\n",
            "7\n",
            "1\n",
            "1\n",
            "0\n",
            "1\n",
            "2\n",
            "1\n",
            "1\n",
            "0\n"
          ],
          "name": "stdout"
        }
      ]
    },
    {
      "cell_type": "code",
      "metadata": {
        "colab": {
          "base_uri": "https://localhost:8080/",
          "height": 916
        },
        "id": "QHq7wW8jLtRt",
        "outputId": "d477182c-0707-455d-de81-a24348fa6a8d"
      },
      "source": [
        "print(N)\n",
        "print(x.shape)\n",
        "# print(x)\n",
        "# print(x[:N][0], x[:N][1])\n",
        "fig = plt.figure(figsize = (15, 15))\n",
        "plt.plot(np.arange(-10, 10), -np.arange(-10, 10)*(W[0][0]/W[1][0]), c='g')\n",
        "plt.scatter(a[0], a[1], c='r')\n",
        "plt.scatter(b[0], b[1], c='b')"
      ],
      "execution_count": 534,
      "outputs": [
        {
          "output_type": "stream",
          "text": [
            "50\n",
            "(100, 2)\n"
          ],
          "name": "stdout"
        },
        {
          "output_type": "execute_result",
          "data": {
            "text/plain": [
              "<matplotlib.collections.PathCollection at 0x7f48556385c0>"
            ]
          },
          "metadata": {
            "tags": []
          },
          "execution_count": 534
        },
        {
          "output_type": "display_data",
          "data": {
            "image/png": "[encoded data removed]",
            "text/plain": [
              "<Figure size 1080x1080 with 1 Axes>"
            ]
          },
          "metadata": {
            "tags": [],
            "needs_background": "light"
          }
        }
      ]
    },
    {
      "cell_type": "code",
      "metadata": {
        "colab": {
          "base_uri": "https://localhost:8080/"
        },
        "id": "7bJjM85T29CT",
        "outputId": "a7c8ade4-aa32-4748-e26d-a69a0082cf65"
      },
      "source": [
        "print(W)"
      ],
      "execution_count": 514,
      "outputs": [
        {
          "output_type": "stream",
          "text": [
            "[[-1.56348494]\n",
            " [ 0.21473367]]\n"
          ],
          "name": "stdout"
        }
      ]
    },
    {
      "cell_type": "markdown",
      "metadata": {
        "id": "icpTEU9mSouJ"
      },
      "source": [
        "After many iterations, we obtain solution that divides both the classes"
      ]
    },
    {
      "cell_type": "code",
      "metadata": {
        "colab": {
          "base_uri": "https://localhost:8080/"
        },
        "id": "O6idLG-aMdHw",
        "outputId": "0f517921-c270-4b84-e8b0-b51847d88720"
      },
      "source": [
        "np.matmul(np.transpose(W), x[9])"
      ],
      "execution_count": 431,
      "outputs": [
        {
          "output_type": "execute_result",
          "data": {
            "text/plain": [
              "array([0.00195408])"
            ]
          },
          "metadata": {
            "tags": []
          },
          "execution_count": 431
        }
      ]
    },
    {
      "cell_type": "code",
      "metadata": {
        "id": "L0sGAMVQUMnB",
        "colab": {
          "base_uri": "https://localhost:8080/"
        },
        "outputId": "8d142d59-a3d0-4f1a-a5dd-e1c60162ba55"
      },
      "source": [
        "print(W)"
      ],
      "execution_count": 414,
      "outputs": [
        {
          "output_type": "stream",
          "text": [
            "[[-0.5514736 ]\n",
            " [ 0.90214731]]\n"
          ],
          "name": "stdout"
        }
      ]
    },
    {
      "cell_type": "code",
      "metadata": {
        "colab": {
          "base_uri": "https://localhost:8080/"
        },
        "id": "-oVChImWrElT",
        "outputId": "dc589015-42b7-44c7-9d63-71b55996e790"
      },
      "source": [
        "np.arange(-10, 10)*W[1][0]"
      ],
      "execution_count": 274,
      "outputs": [
        {
          "output_type": "execute_result",
          "data": {
            "text/plain": [
              "array([-13.44085129, -12.09676616, -10.75268103,  -9.4085959 ,\n",
              "        -8.06451077,  -6.72042564,  -5.37634052,  -4.03225539,\n",
              "        -2.68817026,  -1.34408513,   0.        ,   1.34408513,\n",
              "         2.68817026,   4.03225539,   5.37634052,   6.72042564,\n",
              "         8.06451077,   9.4085959 ,  10.75268103,  12.09676616])"
            ]
          },
          "metadata": {
            "tags": []
          },
          "execution_count": 274
        }
      ]
    },
    {
      "cell_type": "code",
      "metadata": {
        "colab": {
          "base_uri": "https://localhost:8080/"
        },
        "id": "Rh7eRc0XrlVL",
        "outputId": "ff972560-39ec-4c2e-95da-7e025dc232a2"
      },
      "source": [
        "-np.arange(-10, 10)*W[1][0]/W[0][0]"
      ],
      "execution_count": 275,
      "outputs": [
        {
          "output_type": "execute_result",
          "data": {
            "text/plain": [
              "array([-8.39847346, -7.55862611, -6.71877877, -5.87893142, -5.03908408,\n",
              "       -4.19923673, -3.35938938, -2.51954204, -1.67969469, -0.83984735,\n",
              "       -0.        ,  0.83984735,  1.67969469,  2.51954204,  3.35938938,\n",
              "        4.19923673,  5.03908408,  5.87893142,  6.71877877,  7.55862611])"
            ]
          },
          "metadata": {
            "tags": []
          },
          "execution_count": 275
        }
      ]
    },
    {
      "cell_type": "code",
      "metadata": {
        "id": "4hBPW0FFrp_b"
      },
      "source": [
        ""
      ],
      "execution_count": null,
      "outputs": []
    }
  ]
}